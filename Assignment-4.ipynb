{
 "cells": [
  {
   "cell_type": "markdown",
   "metadata": {},
   "source": [
    "# Assignment_4"
   ]
  },
  {
   "cell_type": "markdown",
   "metadata": {},
   "source": [
    "# 1.1 Write a Python Program(with class concepts) to find the area of the triangle using the below\n",
    "formula.\n",
    "area = (s*(s-a)*(s-b)*(s-c)) ** 0.5\n",
    "Function to take the length of the sides of triangle from user should be defined in the parent\n",
    "class and function to calculate the area should be defined in subclass."
   ]
  },
  {
   "cell_type": "code",
   "execution_count": 4,
   "metadata": {},
   "outputs": [],
   "source": [
    "#Parent class\n",
    "class Triangle:\n",
    "    def __init__(self):\n",
    "        \n",
    "        number_of_sides=['a','b','c']\n",
    "        self.TriangleSides=number_of_sides\n",
    "        \n",
    "    def sides_Of_Triangle(self):\n",
    "        \n",
    "        self.sides_Of_Traingle=[input(\"Enter the Side \"+i+\" :\") for i in self.TriangleSides]\n",
    "        \n",
    "#Sub class       \n",
    "class Traingle_Area(Triangle):\n",
    "    def __init__(self):\n",
    "       \n",
    "        Triangle.__init__(self)\n",
    "        \n",
    "    def area_Of_Triangle(self):\n",
    "        \n",
    "        \n",
    "        # Iterator has been created to iterate sides of triangle from collection\n",
    "        triangleSides=iter(self.sides_Of_Traingle)\n",
    "        a=float(next(triangleSides))\n",
    "        b=float(next(triangleSides))\n",
    "        c=float(next(triangleSides))      \n",
    "           \n",
    "        # Half-perimeter (s) of Triangle         \n",
    "        s= (a+b+c)*0.5        \n",
    "        # Area of Triangle         \n",
    "        Area = (s*(s-a)*(s-b)*(s-c))**0.5    \n",
    "        print(\"The sides of triangle are a=\"+str(a)+\", b=\"+str(b)+\", c=\"+str(c))     \n",
    "        Area = ('The Area of the triangle is %0.2f' %Area )\n",
    "      \n",
    "        print(Area)"
   ]
  },
  {
   "cell_type": "code",
   "execution_count": 5,
   "metadata": {},
   "outputs": [],
   "source": [
    "Area_Of_Traingle = Traingle_Area()"
   ]
  },
  {
   "cell_type": "code",
   "execution_count": 6,
   "metadata": {},
   "outputs": [
    {
     "name": "stdout",
     "output_type": "stream",
     "text": [
      "Enter the Side a :5\n",
      "Enter the Side b :4\n",
      "Enter the Side c :6\n"
     ]
    }
   ],
   "source": [
    "Area_Of_Traingle.sides_Of_Triangle()"
   ]
  },
  {
   "cell_type": "code",
   "execution_count": 7,
   "metadata": {},
   "outputs": [
    {
     "name": "stdout",
     "output_type": "stream",
     "text": [
      "The sides of triangle are a=5.0, b=4.0, c=6.0\n",
      "The Area of the triangle is 9.92\n"
     ]
    }
   ],
   "source": [
    "Area_Of_Traingle.area_Of_Triangle()"
   ]
  },
  {
   "cell_type": "markdown",
   "metadata": {},
   "source": [
    "# 1.2 Write a function filter_long_words() that takes a list of words and an integer n and returns the list of words that are longer than n.\n"
   ]
  },
  {
   "cell_type": "code",
   "execution_count": 8,
   "metadata": {},
   "outputs": [
    {
     "name": "stdout",
     "output_type": "stream",
     "text": [
      "Input:\n",
      "Please enter your words: INEURON\n",
      "Please enter your number: 3\n",
      "\n",
      " Output:\n",
      "\n",
      " The List of longest words , which  are longer than 3 is :\n"
     ]
    },
    {
     "data": {
      "text/plain": [
       "['INEURON']"
      ]
     },
     "execution_count": 8,
     "metadata": {},
     "output_type": "execute_result"
    }
   ],
   "source": [
    "def filter_long_words(WordList,n):\n",
    "    \n",
    "    Wordlist=[x.strip() for x in WordList if len(x.strip())>n]\n",
    "    \n",
    "    if(len(Wordlist)>0):\n",
    "        print(\"\\n Output:\")\n",
    "        print(\"\\n The List of longest words , which  are longer than \"+str(n)+\" is :\")\n",
    "        return Wordlist\n",
    "    else:\n",
    "        return \"No Words longer than specified number \"+str(n)\n",
    "    \n",
    "print(\"Input:\")\n",
    "string= input(\"Please enter your words: \")\n",
    "number= int(input(\"Please enter your number: \"))\n",
    "\n",
    "list_Of_Words = list(string.split(\",\"))\n",
    "filter_long_words(list_Of_Words,number)"
   ]
  },
  {
   "cell_type": "markdown",
   "metadata": {},
   "source": [
    "# 2.1 Write a Python program using function concept that maps list of words into a list of integers representing the lengths of the corresponding words.\n",
    "\n",
    "Hint: If a list [ ab,cde,erty] is passed on to the python function output should come as [2,3,4]\n",
    "Here 2,3 and 4 are the lengths of the words in the list.\n"
   ]
  },
  {
   "cell_type": "code",
   "execution_count": 9,
   "metadata": {},
   "outputs": [
    {
     "name": "stdout",
     "output_type": "stream",
     "text": [
      "Input : Please enter Words : ab,cde,erty\n",
      "Output: Length of Words are : [2, 3, 4]\n"
     ]
    }
   ],
   "source": [
    "def map_Words_to_Length(List):\n",
    "    return list(map(len, List))\n",
    "\n",
    "word_List=list(input(\"Input : Please enter Words : \").split(\",\"))\n",
    "\n",
    "List=[x.strip() for x in word_List]\n",
    "\n",
    "Words_lengths=map_Words_to_Length(List)\n",
    "\n",
    "print(\"Output: Length of Words are :\",Words_lengths )\n"
   ]
  },
  {
   "cell_type": "markdown",
   "metadata": {},
   "source": [
    "# 2.2 Write a Python function which takes a character (i.e. a string of length 1) and returns True if it is a vowel, False otherwise.\n",
    "\n"
   ]
  },
  {
   "cell_type": "code",
   "execution_count": 11,
   "metadata": {},
   "outputs": [
    {
     "name": "stdout",
     "output_type": "stream",
     "text": [
      "Enter character to check that it is Vowel or not\n",
      "Input Value: i\n",
      "Output Value: True\n"
     ]
    }
   ],
   "source": [
    "def vowel_check(inputChar):\n",
    "\n",
    "    return_value=''\n",
    "    if(len(inputChar)==1):\n",
    "        vowel_list=['a','e','i','o','u']\n",
    "        if (inputChar.lower() in vowel_list):\n",
    "            return_value= True\n",
    "        else:\n",
    "            return_value= False\n",
    "    else:\n",
    "        return_value=\"Please enter single character only!\"        \n",
    "    return return_value\n",
    "print(\"Enter character to check that it is Vowel or not\")\n",
    "input_value = input(\"Input Value: \")\n",
    "\n",
    "output_value=vowel_check(input_value) \n",
    "\n",
    "print(\"Output Value:\",output_value)"
   ]
  },
  {
   "cell_type": "code",
   "execution_count": null,
   "metadata": {},
   "outputs": [],
   "source": []
  }
 ],
 "metadata": {
  "kernelspec": {
   "display_name": "Python 3",
   "language": "python",
   "name": "python3"
  },
  "language_info": {
   "codemirror_mode": {
    "name": "ipython",
    "version": 3
   },
   "file_extension": ".py",
   "mimetype": "text/x-python",
   "name": "python",
   "nbconvert_exporter": "python",
   "pygments_lexer": "ipython3",
   "version": "3.8.3"
  }
 },
 "nbformat": 4,
 "nbformat_minor": 4
}
